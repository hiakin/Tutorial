{
 "cells": [
  {
   "cell_type": "code",
   "execution_count": null,
   "id": "b95fff6d-3385-48da-aee8-bf9e79492432",
   "metadata": {},
   "outputs": [],
   "source": [
    "# Data Science Tools and Ecosystem"
   ]
  },
  {
   "cell_type": "markdown",
   "id": "ea3ba6a0-f81e-43fa-aa31-c5b6dfcf5cd0",
   "metadata": {},
   "source": [
    "# Data Science Tools and Ecosystem"
   ]
  },
  {
   "cell_type": "code",
   "execution_count": null,
   "id": "0bfcba23-d5c5-4635-970e-8b46bba5d1a4",
   "metadata": {},
   "outputs": [],
   "source": [
    "##### In this notebook, Data Science Tools and Ecosystem are summarized"
   ]
  },
  {
   "cell_type": "markdown",
   "id": "b885df4d-c7d4-4f69-9c59-db1a96970a36",
   "metadata": {},
   "source": [
    "##### In this notebook, Data Science Tools and Ecosystem are summarized"
   ]
  },
  {
   "cell_type": "code",
   "execution_count": null,
   "id": "1146d428-429d-45c7-818e-7106c735ed80",
   "metadata": {},
   "outputs": [],
   "source": [
    "##### Some of the popular languages that Data Scientists use are:\n",
    "\n",
    "1. Python\n",
    "2. R\n",
    "3. SQL\n",
    "4. Scala\n",
    "5. Java"
   ]
  },
  {
   "cell_type": "markdown",
   "id": "504cf315-4ad0-4d9f-95d0-64a0dbeaee60",
   "metadata": {},
   "source": [
    "##### Some of the popular languages that Data Scientists use are:\n",
    "\n",
    "1. Python\n",
    "2. R\n",
    "3. SQL\n",
    "4. Scala\n",
    "5. Java"
   ]
  },
  {
   "cell_type": "code",
   "execution_count": null,
   "id": "ad3e3413-0a9b-4dc1-b586-294fc4ee6edb",
   "metadata": {},
   "outputs": [],
   "source": [
    "##### Some of the commonly used libraries, used by Data Scientist include:\n",
    "\n",
    "1. Panda\n",
    "2. Numpy\n",
    "3. Matplotlib\n",
    "4. Seaborn\n",
    "5. Scikit\n",
    "6. Keras"
   ]
  },
  {
   "cell_type": "markdown",
   "id": "e3701ecc-d8e0-46b3-a598-7d4ece12c559",
   "metadata": {},
   "source": [
    "##### Some of the commonly used libraries, used by Data Scientist include:\n",
    "\n",
    "1. Panda\n",
    "2. Numpy\n",
    "3. Matplotlib\n",
    "4. Seaborn\n",
    "5. Scikit\n",
    "6. Keras"
   ]
  },
  {
   "cell_type": "code",
   "execution_count": null,
   "id": "edf7a88a-d8f1-4a0d-b254-80a54f2dcb16",
   "metadata": {},
   "outputs": [],
   "source": [
    "##### Data Science tools:\n",
    "\n",
    "| Data science Tools|\n",
    "| ------------------|\n",
    "| Jupyter Lab |\n",
    "| Visual studio Code |\n",
    "| Google Colab |"
   ]
  },
  {
   "cell_type": "markdown",
   "id": "f0681ee7-f90b-42bf-816a-0c7d954d94f9",
   "metadata": {},
   "source": [
    "##### Data Science tools:\n",
    "\n",
    "| Data science Tools|\n",
    "| ------------------|\n",
    "| Jupyter Lab |\n",
    "| Visual studio Code |\n",
    "| Google Colab |"
   ]
  },
  {
   "cell_type": "code",
   "execution_count": null,
   "id": "afab9d61-eb50-4efb-af64-bf76f83c448b",
   "metadata": {},
   "outputs": [],
   "source": [
    "### Below are a few examples of evaluating arithmetic expressions in Python"
   ]
  },
  {
   "cell_type": "markdown",
   "id": "2ef88de1-1d5a-41bc-8734-33dff8488110",
   "metadata": {},
   "source": [
    "### Below are a few examples of evaluating arithmetic expressions in Python"
   ]
  },
  {
   "cell_type": "code",
   "execution_count": null,
   "id": "f248d815-966e-4f1b-ad53-64594fbbcb18",
   "metadata": {},
   "outputs": [],
   "source": [
    "#### This a simple arithmetic expression to mutiply then add integers"
   ]
  },
  {
   "cell_type": "code",
   "execution_count": null,
   "id": "ed453c93-a49b-45af-a87e-55913a727ff0",
   "metadata": {},
   "outputs": [],
   "source": [
    "(3*4)+5"
   ]
  },
  {
   "cell_type": "markdown",
   "id": "591da3e4-5c57-440c-b524-61cc036c0d51",
   "metadata": {},
   "source": [
    "#### This a simple arithmetic expression to mutiply then add integers"
   ]
  },
  {
   "cell_type": "code",
   "execution_count": 8,
   "id": "102ef301-fc97-461e-9d52-f2526427e3ac",
   "metadata": {},
   "outputs": [
    {
     "data": {
      "text/plain": [
       "17"
      ]
     },
     "execution_count": 8,
     "metadata": {},
     "output_type": "execute_result"
    }
   ],
   "source": [
    "(3*4)+5"
   ]
  },
  {
   "cell_type": "code",
   "execution_count": null,
   "id": "28ac5be5-7c31-47cd-b975-215912124731",
   "metadata": {},
   "outputs": [],
   "source": [
    "#### This will convert 200 minutes to hours by diving by 60"
   ]
  },
  {
   "cell_type": "code",
   "execution_count": null,
   "id": "54fce3d3-308e-4826-9c39-889eac0c4e3f",
   "metadata": {},
   "outputs": [],
   "source": [
    "200/60"
   ]
  },
  {
   "cell_type": "markdown",
   "id": "ac86935d-b508-4a14-bb69-85d5604bb06f",
   "metadata": {},
   "source": [
    "#### This will convert 200 minutes to hours by diving by 60"
   ]
  },
  {
   "cell_type": "code",
   "execution_count": 15,
   "id": "79060fdf-6bd9-446b-94d6-1b86764796fb",
   "metadata": {
    "tags": []
   },
   "outputs": [
    {
     "data": {
      "text/plain": [
       "3.3333333333333335"
      ]
     },
     "execution_count": 15,
     "metadata": {},
     "output_type": "execute_result"
    }
   ],
   "source": [
    "(200/60) "
   ]
  },
  {
   "cell_type": "code",
   "execution_count": null,
   "id": "1112380d-d595-4e67-bfde-3086d4be3353",
   "metadata": {},
   "outputs": [],
   "source": [
    "##### In this notebook, Data Science Tools and Ecosystem are summarized"
   ]
  },
  {
   "cell_type": "code",
   "execution_count": null,
   "id": "831a3045-f91e-4266-bead-f08993ba16d2",
   "metadata": {},
   "outputs": [],
   "source": [
    "**Objectives**:\n",
    "    \n",
    " + List popular languages for Data Science\n",
    " + List commonly used libraries for Data Science\n",
    " + Mention some Data Science Tools\n",
    " + valuating arithmetic expressions in python\n",
    " + Using the level 1 header to write an expression "
   ]
  },
  {
   "cell_type": "markdown",
   "id": "6f98d6f1-bc53-4b60-838c-b224ddda5820",
   "metadata": {},
   "source": [
    "##### In this notebook, Data Science Tools and Ecosystem are summarized"
   ]
  },
  {
   "cell_type": "markdown",
   "id": "f42da6a1-cca6-46f2-b1dd-7688a8bd45d0",
   "metadata": {},
   "source": [
    "**Objectives**:\n",
    "    \n",
    " + List popular languages for Data Science\n",
    " + List commonly used libraries for Data Science\n",
    " + Mention some Data Science Tools\n",
    " + valuating arithmetic expressions in python\n",
    " + Using the level 1 header to write an expression "
   ]
  },
  {
   "cell_type": "code",
   "execution_count": null,
   "id": "a36dcc3a-32da-4e82-9db6-21a14ad45e1e",
   "metadata": {},
   "outputs": [],
   "source": [
    "## Author:"
   ]
  },
  {
   "cell_type": "code",
   "execution_count": null,
   "id": "4a4810da-7765-4c16-8333-8cde98e585d6",
   "metadata": {},
   "outputs": [],
   "source": [
    "#### Akin Oladokun"
   ]
  },
  {
   "cell_type": "markdown",
   "id": "855c4357-1a72-4018-b946-de664ea133b4",
   "metadata": {},
   "source": [
    "## Author:"
   ]
  },
  {
   "cell_type": "markdown",
   "id": "dbff733b-c8df-4250-bf8b-6d9f16e27cf5",
   "metadata": {},
   "source": [
    "#### Akin Oladokun"
   ]
  },
  {
   "cell_type": "code",
   "execution_count": null,
   "id": "ea0b9a60-fc0c-43e4-bad7-81122e8bab73",
   "metadata": {},
   "outputs": [],
   "source": []
  }
 ],
 "metadata": {
  "kernelspec": {
   "display_name": "anaconda-panel-2023.05-py310",
   "language": "python",
   "name": "conda-env-anaconda-panel-2023.05-py310-py"
  },
  "language_info": {
   "codemirror_mode": {
    "name": "ipython",
    "version": 3
   },
   "file_extension": ".py",
   "mimetype": "text/x-python",
   "name": "python",
   "nbconvert_exporter": "python",
   "pygments_lexer": "ipython3",
   "version": "3.11.4"
  }
 },
 "nbformat": 4,
 "nbformat_minor": 5
}
