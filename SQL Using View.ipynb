{
 "cells": [
  {
   "cell_type": "markdown",
   "id": "92881fb5-22a8-48ad-87b1-3ff50575d513",
   "metadata": {},
   "source": [
    "## Hands-on Lab: Using Views"
   ]
  },
  {
   "cell_type": "markdown",
   "id": "02a0787b-4a29-4c40-a516-c8d5d8e7af79",
   "metadata": {},
   "source": [
    "### Database Used in this Lab\n",
    "\n",
    "The database used in this lab is an internal database. You will be working on a sample HR database. This HR database schema consists of 5 tables called EMPLOYEES, JOB_HISTORY, JOBS, DEPARTMENTS and LOCATIONS. Each table has a few rows of sample data. The following diagram shows the tables for the HR database:"
   ]
  },
  {
   "cell_type": "markdown",
   "id": "8d9c5fb6-636b-43e2-837b-98b7963e13ad",
   "metadata": {},
   "source": [
    "## Exercise 1: Create a View\n",
    "\n",
    "In this exercise, you will create a View and show a selection of data for a given table.\n",
    "\n",
    "Let’s create a view called `EMPSALARY` to display salary along with some basic sensitive data of employees from the HR database. To create the `EMPSALARY` view from the EMPLOYEES table, copy the code below and paste it to the textbox of the Run SQL page. Click `Run all`."
   ]
  },
  {
   "cell_type": "code",
   "execution_count": null,
   "id": "b46f97dc-1cab-4ba5-9dc7-0212dbbf5bda",
   "metadata": {},
   "outputs": [],
   "source": [
    "CREATE VIEW EMPSALARY AS \n",
    "SELECT EMP_ID, F_NAME, L_NAME, B_DATE, SEX, SALARY\n",
    "FROM EMPLOYEES; "
   ]
  },
  {
   "cell_type": "markdown",
   "id": "68c36c28-c90a-4c4f-bf2b-c8d41fb7da5b",
   "metadata": {},
   "source": [
    "Using `SELECT`, query the `EMPSALARY` view to retrieve all the records. Copy the code below and paste it to the textbox of the Run SQL page. Click Run all."
   ]
  },
  {
   "cell_type": "code",
   "execution_count": null,
   "id": "508cde3a-5314-4112-85ab-ee806079fde6",
   "metadata": {},
   "outputs": [],
   "source": [
    "SELECT * FROM EMPSALARY;"
   ]
  },
  {
   "cell_type": "markdown",
   "id": "994c2d0e-cb68-44a4-9591-25b2ce61d23b",
   "metadata": {},
   "source": [
    "### Exercise 2: Update a View\n",
    "In this exercise, you will update a View to combine two or more tables in meaningful ways.\n",
    "\n",
    "It now seems that the `EMPSALARY` view we created in exercise 1 doesn’t contain enough salary information, such as max/min salary and the job title of the employees. Let’s update the `EMPSALARY` view:\n",
    "\n",
    "combining two tables `EMPLOYEES` and `JOBS` so that we can display our desired information from the HR database.\n",
    "including the columns `JOB_TITLE`, `MIN_SALARY`, `MAX_SALARY` of the `JOBS` table as well as excluding the `SALARY` column of the `EMPLOYEES` table.\n",
    "Copy the code below and paste it to the textbox of the Run SQL page. Click `Run all`."
   ]
  },
  {
   "cell_type": "code",
   "execution_count": null,
   "id": "9675bef0-9b62-41d1-991b-dbd751586110",
   "metadata": {},
   "outputs": [],
   "source": [
    "CREATE OR REPLACE VIEW EMPSALARY  AS \n",
    "SELECT EMP_ID, F_NAME, L_NAME, B_DATE, SEX, JOB_TITLE, MIN_SALARY, MAX_SALARY\n",
    "FROM EMPLOYEES, JOBS\n",
    "WHERE EMPLOYEES.JOB_ID = JOBS.JOB_IDENT;"
   ]
  },
  {
   "cell_type": "markdown",
   "id": "7212ce6b-58e8-498d-b815-97d472c5df9f",
   "metadata": {},
   "source": [
    "Using `SELECT`, query the updated `EMPSALARY` view to retrieve all the records. Copy the code below and paste it to the textbox of the Run `SQL` page. Click `Run all`."
   ]
  },
  {
   "cell_type": "code",
   "execution_count": null,
   "id": "3b9069f9-e50b-4d8d-82f3-a24a8185771d",
   "metadata": {},
   "outputs": [],
   "source": [
    "SELECT * FROM EMPSALARY;"
   ]
  },
  {
   "cell_type": "markdown",
   "id": "3146fb81-67e9-47fc-ab40-c2a4f6ead05e",
   "metadata": {},
   "source": [
    "### Exercise 3: Drop a View\n",
    "\n",
    "In this exercise, you will drop a created View.\n",
    "\n",
    "Let’s delete the created `EMPSALARY` view. Copy the code below and paste it to the textbox of the Run `SQL` page. Click `Run all`."
   ]
  },
  {
   "cell_type": "code",
   "execution_count": null,
   "id": "899b5da7-859e-46b5-b28f-a96faef00035",
   "metadata": {},
   "outputs": [],
   "source": [
    "DROP VIEW EMPSALARY;"
   ]
  },
  {
   "cell_type": "markdown",
   "id": "7e78cd02-f160-46ea-a37e-6f07f665a1cd",
   "metadata": {},
   "source": [
    "## **Hands-on Lab: Stored Procedures**"
   ]
  },
  {
   "cell_type": "markdown",
   "id": "f162ee71-02e4-4220-ab76-2d1d6208d3ad",
   "metadata": {},
   "source": [
    "### Data Used in this Lab\n",
    "\n",
    "The data used in this lab is internal data. You will be working on the `PETSALE` table.\n",
    "\n"
   ]
  },
  {
   "cell_type": "markdown",
   "id": "30f3e7df-7071-4406-a74e-868fa5856a63",
   "metadata": {},
   "source": [
    "### Exercise 1\n",
    "\n",
    "In this exercise, you will create and execute a stored procedure to read data from a table on Db2 using SQL.\n",
    "\n",
    "Make sure you have created and populated the `PETSALE` table following the steps in the “`Data Used in this Lab`” section of this lab."
   ]
  },
  {
   "cell_type": "markdown",
   "id": "4b595626-896a-4757-b0f9-de112435e6e6",
   "metadata": {},
   "source": [
    "You will create a stored procedure routine named `RETRIEVE_ALL`.\n",
    "\n",
    "This `RETRIEVE_ALL` routine will contain an SQL query to retrieve all the records from the `PETSALE` table, so you don’t need to write the same query over and over again. You just call the stored procedure routine to execute the query everytime.\n",
    "\n",
    "To create the stored procedure routine, copy the code below and paste it to the textbox of the Run SQL page. Click `Run all`."
   ]
  },
  {
   "cell_type": "markdown",
   "id": "efce7383-3cd1-4c0d-beac-6334a519216d",
   "metadata": {},
   "source": [
    "## Stored Procedures in IBM Db2 using SQL"
   ]
  },
  {
   "cell_type": "code",
   "execution_count": null,
   "id": "d0e4873a-16c4-4112-b47e-3620b1164b76",
   "metadata": {},
   "outputs": [],
   "source": [
    "   --#SET TERMINATOR @\n",
    "    CREATE PROCEDURE RETRIEVE_ALL       -- Name of this stored procedure routine\n",
    "    LANGUAGE SQL                        -- Language used in this routine \n",
    "    READS SQL DATA                      -- This routine will only read data from the table\n",
    "    DYNAMIC RESULT SETS 1               -- Maximum possible number of result-sets to be returned to the caller query\n",
    "    BEGIN \n",
    "        DECLARE C1 CURSOR               -- CURSOR C1 will handle the result-set by retrieving records row by row from the table\n",
    "        WITH RETURN FOR                 -- This routine will return retrieved records as a result-set to the caller query\n",
    "        \n",
    "        SELECT * FROM PETSALE;          -- Query to retrieve all the records from the table\n",
    "        \n",
    "        OPEN C1;                        -- Keeping the CURSOR C1 open so that result-set can be returned to the caller query\n",
    "    END\n",
    "    @                                   -- Routine termination character\n",
    "Copied!\n"
   ]
  },
  {
   "cell_type": "code",
   "execution_count": null,
   "id": "a2281507-aa82-4096-b26d-a259a621d583",
   "metadata": {},
   "outputs": [],
   "source": [
    "--SET TERMINATOR @\n",
    "    CREATE PROCEDURE UPDATE_LEADERS_SCORE (\n",
    "     IN IN_SCHOOL_ID INTEGER, IN IN_LEADER_SCORE INTEGER)\n",
    "      LANGUAGE SQL \n",
    "      MODIFIES SQL DATA\n",
    "      BEGIN\n",
    "      \n",
    "     IF IN_SCHOOL_ID = SCHOOL_ID THEN UPDATE CHICAGO_PUBLIC_SCHOOLS \n",
    "     SET LEADER_SCORE = IN_LEADER_SCORE WHERE SCHOOL_ID = IN_SCHOOL_ID;\n",
    "     \n",
    "     END \n",
    "     @"
   ]
  },
  {
   "cell_type": "markdown",
   "id": "91a5c8cc-5588-47de-8d08-6059cae47d0f",
   "metadata": {},
   "source": [
    "To call the RETRIEVE_ALL routine, copy the code below in a `new blank script` and paste it to the textbox of the `Run SQL page`. Click `Run all`. You will have all the records retrieved from the PETSALE table."
   ]
  },
  {
   "cell_type": "markdown",
   "id": "84c8e607-911c-48b4-a505-6fc2374aea70",
   "metadata": {},
   "source": [
    "You can view the created stored procedure routine `RETRIEVE_ALL`. Click on the 3-bar menu icon in the top left corner and click `EXPLORE` > `APPLICATION OBJECTS` > `Stored Procedures`. Find the procedure routine `RETRIEVE_ALL` from Procedures by clicking Select All. Click on the procedure routine `RETRIEVE_ALL`."
   ]
  },
  {
   "cell_type": "markdown",
   "id": "a09de4ca-085a-4511-9c56-6874745ac126",
   "metadata": {},
   "source": [
    "If you wish to drop the stored procedure routine `RETRIEVE_ALL`, copy the code below and paste it to the textbox of the `Run SQL` page. Click `Run all`."
   ]
  },
  {
   "cell_type": "code",
   "execution_count": null,
   "id": "978ccd68-bfec-496f-bcaf-e85c62763d7c",
   "metadata": {},
   "outputs": [],
   "source": [
    "DROP PROCEDURE RETRIEVE_ALL;\n",
    "\n",
    "CALL RETRIEVE_ALL;"
   ]
  },
  {
   "cell_type": "markdown",
   "id": "ec5a00a7-11c7-4590-9422-adfdff468352",
   "metadata": {},
   "source": [
    "## Stored Procedures in MySQL using phpMyAdmin"
   ]
  },
  {
   "cell_type": "code",
   "execution_count": null,
   "id": "065b1c1c-285e-434c-b653-fafb9f522213",
   "metadata": {},
   "outputs": [],
   "source": [
    " DELIMITER //\n",
    "CREATE PROCEDURE RETRIEVE_ALL()\n",
    "\n",
    "BEGIN\n",
    "\n",
    "SELECT * FROM PETSALE;\n",
    "\n",
    "END //\n",
    "\n",
    "DELIMITER ;"
   ]
  },
  {
   "cell_type": "markdown",
   "id": "0e769233-82b8-4967-aa31-a436af497ff6",
   "metadata": {},
   "source": [
    "### Exercise 2\n",
    "\n",
    "In this exercise, you will create and execute a stored procedure to write/modify data in a table on Db2 using SQL.\n",
    "\n",
    "Make sure you have created and populated the `PETSALE` table following the steps in the “`Data Used in this Lab`” section of this lab."
   ]
  },
  {
   "cell_type": "markdown",
   "id": "3ac617af-fbfd-4fa1-8b3d-fe838dc5174e",
   "metadata": {},
   "source": [
    "You will create a stored procedure routine named `UPDATE_SALEPRICE` with parameters `Animal_ID` and `Animal_Health`.\n",
    "\n",
    "* This `UPDATE_SALEPRICE` routine will contain SQL queries to update the sale price of the animals in the `PETSALE` table depending on their health conditions, `BAD` or `WORSE`.\n",
    "* This procedure routine will take animal ID and health conditon as parameters which will be used to update the sale price of animal in the `PETSALE` table by an amount depending on their health condition. Suppose -\n",
    "* For animal with ID XX having `BAD` health condition, the sale price will be reduced further by 25%.\n",
    "* For animal with ID YY having `WORSE` health condition, the sale price will be reduced further by 50%.\n",
    "* For animal with ID ZZ having other health condition, the sale price won’t change.\n",
    "\n",
    "* To create the stored procedure routine, copy the code below and paste it to the textbox of the `Run SQL` page. Click `Run all`."
   ]
  },
  {
   "cell_type": "code",
   "execution_count": null,
   "id": "bc3eb29a-c83e-43b1-bf86-bea8ef1c0345",
   "metadata": {},
   "outputs": [],
   "source": [
    "--#SET TERMINATOR @\n",
    "    CREATE PROCEDURE UPDATE_SALEPRICE ( \n",
    "        IN Animal_ID INTEGER, IN Animal_Health VARCHAR(5) )     -- ( { IN/OUT type } { parameter-name } { data-type }, ... )\n",
    "    LANGUAGE SQL                                                -- Language used in this routine\n",
    "    MODIFIES SQL DATA                                           -- This routine will only write/modify data in the table\n",
    "    BEGIN \n",
    "        IF Animal_Health = 'BAD' THEN                           -- Start of conditional statement\n",
    "            UPDATE PETSALE\n",
    "            SET SALEPRICE = SALEPRICE - (SALEPRICE * 0.25)\n",
    "            WHERE ID = Animal_ID;\n",
    "        \n",
    "        ELSEIF Animal_Health = 'WORSE' THEN\n",
    "            UPDATE PETSALE\n",
    "            SET SALEPRICE = SALEPRICE - (SALEPRICE * 0.5)\n",
    "            WHERE ID = Animal_ID;\n",
    "            \n",
    "        ELSE\n",
    "            UPDATE PETSALE\n",
    "            SET SALEPRICE = SALEPRICE\n",
    "            WHERE ID = Animal_ID;\n",
    "        END IF;                                                 -- End of conditional statement\n",
    "        \n",
    "    END\n",
    "    @                                                           -- Routine termination character\n"
   ]
  },
  {
   "cell_type": "markdown",
   "id": "a082d09e-b04f-49fe-b64d-451702c35487",
   "metadata": {},
   "source": [
    "Let’s call the UPDATE_SALEPRICE routine. We want to update the sale price of animal with ID `1` having `BAD` health condition in the PETSALE table. Copy the code below in a `new blank script` and paste it to the textbox of the Run SQL page. \n",
    "\n",
    "Click `Run all`. You will have all the records retrieved from the `PETSALE` table."
   ]
  },
  {
   "cell_type": "code",
   "execution_count": null,
   "id": "c20eaa49-77ad-480b-bf41-281a4b9f1fef",
   "metadata": {},
   "outputs": [],
   "source": [
    "CALL RETRIEVE_ALL;\n",
    "CALL UPDATE_SALEPRICE(1, 'BAD');        -- Caller query\n",
    "CALL RETRIEVE_ALL;"
   ]
  },
  {
   "cell_type": "markdown",
   "id": "46ea5253-7761-484a-9899-0aa02ce5f052",
   "metadata": {},
   "source": [
    "Let’s call the `UPDATE_SALEPRICE` routine once again. We want to update the sale price of animal with ID `3` having `WORSE` health condition in the PETSALE table. \n",
    "\n",
    "Copy the code below and paste it to the textbox of the Run SQL page. Click `Run all`. You will have all the records retrieved from the `PETSALE` table."
   ]
  },
  {
   "cell_type": "code",
   "execution_count": null,
   "id": "80f26b4d-5a22-4a59-89c7-0601139d6a17",
   "metadata": {},
   "outputs": [],
   "source": [
    "CALL RETRIEVE_ALL;\n",
    "CALL UPDATE_SALEPRICE(3, 'WORSE');      -- Caller query\n",
    "CALL RETRIEVE_ALL;"
   ]
  },
  {
   "cell_type": "markdown",
   "id": "184c9f63-e277-4a0d-a63e-d5603ecbfd74",
   "metadata": {},
   "source": [
    "You can view the created stored procedure routine `RETRIEVE_ALL`. Click on the 3-bar menu icon in the top left corner and click `EXPLORE` > `APPLICATION OBJECTS` > `Stored Procedures`. Find the procedure routine `RETRIEVE_ALL` from Procedures by clicking Select All. Click on the procedure routine `RETRIEVE_ALL`."
   ]
  },
  {
   "cell_type": "markdown",
   "id": "7b81a225-47b9-4a37-9de1-218a350a571c",
   "metadata": {},
   "source": [
    "If you wish to drop the stored procedure routine `RETRIEVE_ALL`, copy the code below and paste it to the textbox of the `Run SQL` page. Click `Run all`."
   ]
  },
  {
   "cell_type": "code",
   "execution_count": null,
   "id": "fdcb8dfc-e33c-4739-9456-0eb9f58fbd90",
   "metadata": {},
   "outputs": [],
   "source": [
    "DROP PROCEDURE UPDATE_SALEPRICE;"
   ]
  },
  {
   "cell_type": "markdown",
   "id": "56462e37-90cb-4b44-94ef-cc7b142c4ee4",
   "metadata": {},
   "source": [
    "## Summary & Highlights\n",
    "\n",
    "Congratulations! You have completed this lesson. At this point in the course, you know:\n",
    "\n",
    "Views are a dynamic mechanism for presenting data from one or more tables.\n",
    "\n",
    "* A transaction represents a complete unit of work, which can be one or more SQL statements.\n",
    "\n",
    "* An ACID transaction is one where all the SQL statements must complete successfully, or none at all.\n",
    "\n",
    "* A stored procedure is a set of SQL statements that are stored and executed on the database server, allowing you to send one statement as an alternative to sending multiple statements.\n",
    "\n",
    "* You can write stored procedures in many different languages like SQL PL, PL/SQL, Java, and C."
   ]
  },
  {
   "cell_type": "markdown",
   "id": "c833cf8e-af6d-4867-b223-a1b579b3afd2",
   "metadata": {},
   "source": [
    "## Hands-on Lab: Joins"
   ]
  },
  {
   "cell_type": "markdown",
   "id": "d567ec1f-2a45-4196-a1db-41e5e8e9f7b2",
   "metadata": {},
   "source": [
    "#### How does a CROSS JOIN (also known as Cartesian Join) statement syntax look?"
   ]
  },
  {
   "cell_type": "code",
   "execution_count": null,
   "id": "d8d140b9-9cfb-4b4e-aedc-b96608380855",
   "metadata": {},
   "outputs": [],
   "source": [
    "SELECT column_name(s)\n",
    "FROM table1\n",
    "CROSS JOIN table2;"
   ]
  },
  {
   "cell_type": "markdown",
   "id": "8cab9d74-bd1e-4184-a784-6f00459efef6",
   "metadata": {},
   "source": [
    "#### How does an INNER JOIN statement syntax look?"
   ]
  },
  {
   "cell_type": "code",
   "execution_count": null,
   "id": "7ca11400-3e96-4f20-967b-274cb8d20768",
   "metadata": {},
   "outputs": [],
   "source": [
    "SELECT column_name(s)\n",
    "FROM table1\n",
    "INNER JOIN table2\n",
    "ON table1.column_name = table2.column_name;\n",
    "WHERE condition;"
   ]
  },
  {
   "cell_type": "markdown",
   "id": "6325fa3e-4e41-4104-9c7e-bcd12ada242a",
   "metadata": {},
   "source": [
    "#### How does a LEFT OUTER JOIN statement syntax look?"
   ]
  },
  {
   "cell_type": "code",
   "execution_count": null,
   "id": "599d1aae-1e75-4dfd-8e89-b61955c8235e",
   "metadata": {},
   "outputs": [],
   "source": [
    "SELECT column_name(s)\n",
    "FROM table1\n",
    "LEFT OUTER JOIN table2\n",
    "ON table1.column_name = table2.column_name\n",
    "WHERE condition;"
   ]
  },
  {
   "cell_type": "markdown",
   "id": "552925e5-0932-42c5-8cd4-fc5eb91228a7",
   "metadata": {},
   "source": [
    "#### How does a RIGHT OUTER JOIN statement syntax look?\n",
    "\n"
   ]
  },
  {
   "cell_type": "code",
   "execution_count": null,
   "id": "a3dfaf79-7b9a-4cce-b103-75074061db0d",
   "metadata": {},
   "outputs": [],
   "source": [
    "SELECT column_name(s)\n",
    "FROM table1\n",
    "RIGHT OUTER JOIN table2\n",
    "ON table1.column_name = table2.column_name\n",
    "WHERE condition;"
   ]
  },
  {
   "cell_type": "markdown",
   "id": "3d155806-4645-450c-b43c-310904e26786",
   "metadata": {},
   "source": [
    "#### How does a FULL OUTER JOIN statement syntax look?\n",
    "\n"
   ]
  },
  {
   "cell_type": "code",
   "execution_count": null,
   "id": "4b651916-a6a6-42a8-93d6-99206f398b15",
   "metadata": {},
   "outputs": [],
   "source": [
    "SELECT column_name(s)\n",
    "FROM table1\n",
    "FULL OUTER JOIN table2\n",
    "ON table1.column_name = table2.column_name\n",
    "WHERE condition;"
   ]
  },
  {
   "cell_type": "markdown",
   "id": "203fe3ea-c58a-4c82-a47c-5842b6170456",
   "metadata": {},
   "source": [
    "#### How does a SELF JOIN statement syntax look?\n",
    "\n"
   ]
  },
  {
   "cell_type": "code",
   "execution_count": null,
   "id": "a88aba2a-ff72-445d-89ec-f03c703e3962",
   "metadata": {},
   "outputs": [],
   "source": [
    "SELECT column_name(s)\n",
    "FROM table1 T1, table1 T2\n",
    "WHERE condition;"
   ]
  },
  {
   "cell_type": "code",
   "execution_count": null,
   "id": "6cb84a04-004c-46b5-b9f9-39a9c601e634",
   "metadata": {},
   "outputs": [],
   "source": [
    "SELECT E.F_NAME, E.L_NAME, J.START_DATE \n",
    "FROM EMPLOYEES E,\n",
    "INNER JOIN JOB_HISTORY J \n",
    "ON E.EMP_ID = J.EMPL_ID\n",
    "WHERE E.DEP_ID = '5';"
   ]
  },
  {
   "cell_type": "markdown",
   "id": "897f452a-f682-4e26-85ed-140447d8415c",
   "metadata": {},
   "source": [
    "### Exercise\n",
    "\n",
    "Problem:\n",
    "\n",
    "1. Select the names and job start dates of all employees who work for the department number 5."
   ]
  },
  {
   "cell_type": "code",
   "execution_count": null,
   "id": "c45f2c86-0c25-4a8a-8d54-fc4419631902",
   "metadata": {},
   "outputs": [],
   "source": [
    "SELECT E.F_NAME,E.L_NAME, JH.START_DATE \n",
    "FROM EMPLOYEES AS E \n",
    "INNER JOIN JOB_HISTORY AS JH on E.EMP_ID=JH.EMPL_ID \n",
    "where E.DEP_ID ='5';"
   ]
  },
  {
   "cell_type": "markdown",
   "id": "12116e67-662a-429a-83db-7ead34a944d7",
   "metadata": {},
   "source": [
    "Problem:\n",
    "\n",
    "2. Select the names, job start dates, and job titles of all employees who work for the department number 5."
   ]
  },
  {
   "cell_type": "code",
   "execution_count": null,
   "id": "33d198fb-26ec-495f-ad9f-8866e5bd48ba",
   "metadata": {},
   "outputs": [],
   "source": [
    "SELECT E.F_NAME, E.L_NAME, JH.START_DATE, J.JOB_TITLE\n",
    "FROM EMPLOYEES AS E\n",
    "INNER JOIN JOB_HISTORY AS JH ON E.EMP_ID = JH.EMPL_ID\n",
    "INNER JOIN JOBS AS J ON E.JOB_ID = J.JOB_IDENT\n",
    "WHERE E.DEP_ID = '5';"
   ]
  },
  {
   "cell_type": "markdown",
   "id": "48421f9a-9d81-4cba-a914-090abb60b975",
   "metadata": {},
   "source": [
    "Problem:\n",
    "\n",
    "4. Re-write the previous query but limit the result set to include only the rows for employees born before 1980."
   ]
  },
  {
   "cell_type": "code",
   "execution_count": null,
   "id": "a0f06626-0f5c-4b27-abc3-a5cb72aed887",
   "metadata": {},
   "outputs": [],
   "source": [
    "SELECT E.EMP_ID, E.L_NAME, E.DEP_ID, D.DEP_NAME \n",
    "FROM EMPLOYEES AS E \n",
    "LEFT OUTER JOIN DEPARTMENTS AS D ON D.DEPT_ID_DEP = E.DEP_ID\n",
    "WHERE YEAR(E.B_DATE) < '1980';\n"
   ]
  },
  {
   "cell_type": "markdown",
   "id": "5ae2f5a6-8ca9-4da6-9af2-95aa95de517e",
   "metadata": {},
   "source": [
    "Problem:\n",
    "\n",
    "5. Re-write the previous query but have the result set include all the employees but department names for only the employees who were born before 1980."
   ]
  },
  {
   "cell_type": "code",
   "execution_count": null,
   "id": "0759a0ae-668f-4923-bb1d-1fed98a48a6f",
   "metadata": {},
   "outputs": [],
   "source": [
    "SELECT E.EMP_ID, E.L_NAME, E.DEP_ID, D.DEP_NAME \n",
    "FROM EMPLOYEES AS E \n",
    "LEFT OUTER JOIN DEPARTMENTS AS D ON D.DEPT_ID_DEP = E.DEP_ID\n",
    "AND YEAR(E.B_DATE) < '1980';\n"
   ]
  },
  {
   "cell_type": "markdown",
   "id": "edaf2ad0-093b-4545-b3dd-e1b18d969611",
   "metadata": {},
   "source": [
    "Problem:\n",
    "\n",
    "6. Perform a Full Join on the EMPLOYEES and DEPARTMENT tables and select the First name, Last name and Department name of all employees."
   ]
  },
  {
   "cell_type": "code",
   "execution_count": null,
   "id": "fccfdcb4-81a7-4c7c-8267-fea57613d738",
   "metadata": {},
   "outputs": [],
   "source": [
    "SELECT E.F_NAME, E.L_NAME, D.DEP_NAME \n",
    "FROM EMPLOYEES AS E \n",
    "FULL JOIN DEPARTMENTS AS D ON D.DEPT_ID_DEP = E.DEP_ID"
   ]
  },
  {
   "cell_type": "markdown",
   "id": "efefea09-82c8-44a7-8191-0ffeb4aa8b92",
   "metadata": {},
   "source": [
    "Problem:\n",
    "\n",
    "7. Re-write the previous query but have the result set include all employee names but department id and department names only for male employees."
   ]
  },
  {
   "cell_type": "code",
   "execution_count": null,
   "id": "eab546ff-7e93-4b9e-84ac-182bc86d1a8c",
   "metadata": {},
   "outputs": [],
   "source": [
    "SELECT E.F_NAME, E.L_NAME, E.DEP_ID, D.DEP_NAME \n",
    "FROM EMPLOYEES AS E \n",
    "FULL JOIN DEPARTMENTS AS D ON D.DEPT_ID_DEP = E.DEP_ID\n",
    "AND SEX = 'M';"
   ]
  },
  {
   "cell_type": "markdown",
   "id": "0ea20b74-c55a-4cbb-988c-96adca636e00",
   "metadata": {},
   "source": [
    "### Summary & Highlights\n",
    "\n",
    "Congratulations! You have completed this lesson. At this point in the course, you know:\n",
    "\n",
    "- A join combines the rows from two or more tables based on a relationship between certain columns in these tables.\n",
    "\n",
    "- To combine data from three or more different tables, you simply add new joins to the SQL statement. \n",
    "\n",
    "- There are two types of table joins: inner join and outer join; and three types of outer joins: left outer join, right outer join, and full outer join. \n",
    "\n",
    "- The most common type of join is the inner join, which matches the results from two tables and returns only the rows that match.\n",
    "\n",
    "- You can use an alias as shorthand for a table or column name.\n",
    "\n",
    "- You can use a self-join to compare rows within the same table"
   ]
  },
  {
   "cell_type": "markdown",
   "id": "54598192-4979-481b-bca1-5b93fb889420",
   "metadata": {},
   "source": [
    "### Quiz and Assignment for Advanced SQL"
   ]
  },
  {
   "cell_type": "markdown",
   "id": "1c345e50-93c8-46ab-9104-3e6791bcb848",
   "metadata": {},
   "source": [
    "#### Problem 1\n",
    "\n",
    "List the `case number`, `type of crime` and `community area` for all crimes in community area number 18."
   ]
  },
  {
   "cell_type": "code",
   "execution_count": null,
   "id": "741e7277-1fba-482f-91c3-0184f3dea667",
   "metadata": {},
   "outputs": [],
   "source": [
    "# Done on IBM Db2\n",
    "SELECT CRD.CASE_NUMBER, CRD.PRIMARY_TYPE, CRD.COMMUNITY_AREA_NUMBER\n",
    "FROM CHICAGO_CRIME_DATA AS CRD\n",
    "INNER JOIN CENSUS_DATA AS CD ON CD.COMMUNITY_AREA_NUMBER = CRD.COMMUNITY_AREA_NUMBER\n",
    "WHERE CRD.COMMUNITY_AREA_NUMBER = '18'"
   ]
  },
  {
   "cell_type": "markdown",
   "id": "03cecc62-4538-483c-92a6-a2969615ee45",
   "metadata": {},
   "source": [
    "Problem 2\n",
    "\n",
    "List `all crimes` that took place at a school. Include `case number`, `crime type` and `community name`."
   ]
  },
  {
   "cell_type": "code",
   "execution_count": null,
   "id": "5e38ef8e-e430-4a6e-9fc8-e5584fdd7aab",
   "metadata": {},
   "outputs": [],
   "source": [
    "# The code finally ran (i had to space the words in red)\n",
    "SELECT CRD.CASE_NUMBER, CRD.PRIMARY_TYPE, CRD.LOCATION_DESCRIPTION, CD.COMMUNITY_AREA_NAME\n",
    "FROM CHICAGO_CRIME_DATA AS CRD\n",
    "LEFT OUTER JOIN CENSUS_DATA AS CD ON CD.COMMUNITY_AREA_NUMBER = CRD.COMMUNITY_AREA_NUMBER\n",
    "WHERE CRD.LOCATION_DESCRIPTION IN ('SCHOOL, PUBLIC, GROUNDS','SCHOOL, PUBLIC, BUILDING','SCHOOL, PRIVATE, BUILDING')"
   ]
  },
  {
   "cell_type": "code",
   "execution_count": null,
   "id": "0526ae02-9f5c-4c09-8bce-21d10546f89d",
   "metadata": {},
   "outputs": [],
   "source": [
    "# This is for crime happened at Grocery food store n Sidewalk\n",
    "\n",
    "SELECT CRD.CASE_NUMBER, CRD.PRIMARY_TYPE, CRD.LOCATION_DESCRIPTION, CD.COMMUNITY_AREA_NAME\n",
    "FROM CHICAGO_CRIME_DATA AS CRD\n",
    "LEFT OUTER JOIN CENSUS_DATA AS CD ON CD.COMMUNITY_AREA_NUMBER = CRD.COMMUNITY_AREA_NUMBER\n",
    "WHERE CRD.LOCATION_DESCRIPTION IN ('GROCERY FOOD STORE','SIDEWALK')"
   ]
  },
  {
   "cell_type": "markdown",
   "id": "1b8b2feb-8937-4975-80c2-8806244d1ca3",
   "metadata": {},
   "source": [
    "Problem 3\n",
    "\n",
    "For the communities of `Oakland`, `Armour Square`, `Edgewater` and `CHICAGO` list the associated community_area_numbers and the case_numbers."
   ]
  },
  {
   "cell_type": "code",
   "execution_count": null,
   "id": "dfa20e96-80d0-4a83-bfad-db002883ea23",
   "metadata": {},
   "outputs": [],
   "source": [
    "SELECT CRD.COMMUNITY_AREA_NUMBER, CRD.CASE_NUMBER, CD.COMMUNITY_AREA_NAME\n",
    "FROM CHICAGO_CRIME_DATA AS CRD \n",
    "FULL JOIN CENSUS_DATA AS CD ON CD.COMMUNITY_AREA_NUMBER = CRD.COMMUNITY_AREA_NUMBER \n",
    "WHERE CD.COMMUNITY_AREA_NAME IN ('OAKLAND','ARMOUR SQUARE','EDGEWATER','CHICAGO')\n",
    "\n",
    "# Returned value for only CHICAGO"
   ]
  },
  {
   "cell_type": "markdown",
   "id": "31d31092-e0af-40c3-aeba-a7918bff5149",
   "metadata": {},
   "source": [
    "### Exercise 1: Using Joins\n",
    "\n",
    "You have been asked to produce some reports about the communities and crimes in the Chicago area. You will need to use SQL join queries to access the data stored across multiple tables.\n",
    "\n",
    "Question 1\n",
    "\n",
    "Write and execute a SQL query to list the `school names`, `community names` and `average attendance` for communities with a `hardship index` of 98."
   ]
  },
  {
   "cell_type": "code",
   "execution_count": null,
   "id": "e4173f64-f9e8-4266-8d30-2be652637edc",
   "metadata": {},
   "outputs": [],
   "source": [
    "SELECT CPS.NAME_OF_SCHOOL, CPS.COMMUNITY_AREA_NAME, CPS.AVERAGE_STUDENT_ATTENDANCE, CD.HARDSHIP_INDEX \n",
    "FROM CHICAGO_PUBLIC_SCHOOLS AS CPS\n",
    "LEFT OUTER JOIN CENSUS_DATA AS CD ON CD.COMMUNITY_AREA_NUMBER = CPS.COMMUNITY_AREA_NUMBER\n",
    "WHERE CD.HARDSHIP_INDEX = 98"
   ]
  },
  {
   "cell_type": "markdown",
   "id": "e8135a06-916e-474f-aa2a-0ea4ec24ebbb",
   "metadata": {},
   "source": [
    "Question 2\n",
    "\n",
    "Write and execute a SQL query to list all crimes that took place at a `school`. Include `case number`, `crime type` and `community name`.\n"
   ]
  },
  {
   "cell_type": "code",
   "execution_count": null,
   "id": "50d3450d-8839-44c6-9bd1-1f8caee1a940",
   "metadata": {},
   "outputs": [],
   "source": [
    "SELECT CRD.CASE_NUMBER, CRD.PRIMARY_TYPE, CRD.LOCATION_DESCRIPTION, CD.COMMUNITY_AREA_NAME\n",
    "FROM CHICAGO_CRIME_DATA AS CRD\n",
    "LEFT OUTER JOIN CENSUS_DATA AS CD ON CD.COMMUNITY_AREA_NUMBER = CRD.COMMUNITY_AREA_NUMBER\n",
    "WHERE CRD.LOCATION_DESCRIPTION IN ('SCHOOL, PUBLIC, GROUNDS','SCHOOL, PUBLIC, BUILDING','SCHOOL, PRIVATE, BUILDING')"
   ]
  },
  {
   "cell_type": "markdown",
   "id": "ffbaad1f-c3be-4f5c-a3de-a1b0b820e2fa",
   "metadata": {},
   "source": [
    "### Exercise 2: Creating a View\n",
    "\n",
    "For privacy reasons, you have been asked to create a view that enables users to select just the school name and the icon fields from the CHICAGO_PUBLIC_SCHOOLS table. By providing a view, you can ensure that users cannot see the actual scores given to a school, just the icon associated with their score. You should define new names for the view columns to obscure the use of scores and icons in the original table.\n",
    "\n",
    "Question 1\n",
    "\n",
    "Write and execute a SQL statement to create a `view` showing the columns listed in the following table, with `new column names` as shown in `the second column`."
   ]
  },
  {
   "cell_type": "code",
   "execution_count": null,
   "id": "8ad9ed20-189f-4779-9b7b-687bb32d3214",
   "metadata": {},
   "outputs": [],
   "source": [
    "CREATE OR REPLACE VIEW NEW_COLUMN_NAME AS\n",
    "SELECT NAME_OF_SCHOOL AS SCHOOL_NAME, SAFETY_ICON AS SAFETY_RATING, \n",
    "FAMILY_INVOLVEMENT_ICON AS FAMILY_RATING, \n",
    "ENVIRONMENT_ICON AS ENVIRONMENT_RATING, INSTRUCTION_ICON AS INSTRUCTION_RATING,\n",
    "LEADERS_ICON AS LEADERS_RATING, TEACHERS_ICON AS TEACHERS_RATING\n",
    "FROM CHICAGO_PUBLIC_SCHOOLS"
   ]
  },
  {
   "cell_type": "markdown",
   "id": "35de3fde-9ea7-4360-ac1c-1a1ff29a679f",
   "metadata": {},
   "source": [
    "- Write and execute a SQL statement that returns all of the columns from the view.\n",
    "\n",
    "- Write and execute a SQL statement that returns just the school name and leaders rating from the view."
   ]
  },
  {
   "cell_type": "code",
   "execution_count": null,
   "id": "70c92866-b3ab-431c-b825-242f3d34615c",
   "metadata": {},
   "outputs": [],
   "source": [
    "CREATE OR REPLACE VIEW NEW_COLUMN_NAME AS\n",
    "SELECT NAME_OF_SCHOOL AS SCHOOL_NAME, SAFETY_ICON AS SAFETY_RATING, \n",
    "FAMILY_INVOLVEMENT_ICON AS FAMILY_RATING, \n",
    "ENVIRONMENT_ICON AS ENVIRONMENT_RATING, INSTRUCTION_ICON AS INSTRUCTION_RATING,\n",
    "LEADERS_ICON AS LEADERS_RATING, TEACHERS_ICON AS TEACHERS_RATING\n",
    "FROM CHICAGO_PUBLIC_SCHOOLS;\n",
    "\n",
    "SELECT * FROM NEW_COLUMN_NAME;"
   ]
  },
  {
   "cell_type": "code",
   "execution_count": null,
   "id": "9017d1cc-870d-4567-88b4-4e8df8fd0952",
   "metadata": {},
   "outputs": [],
   "source": [
    "SELECT SCHOOL_NAME, LEADERS_RATING\n",
    "FROM NEW_COLUMN_NAME;"
   ]
  },
  {
   "cell_type": "markdown",
   "id": "b16dd1d6-68c3-43a8-81d5-445dc267a575",
   "metadata": {},
   "source": [
    "### Exercise 3: Creating a Stored Procedure\n",
    "\n",
    "The icon fields are calculated based on the value in the corresponding score field. You need to make sure that when a score field is updated, the icon field is updated too. To do this, you will write a stored procedure that receives the school id and a leaders score as input parameters, calculates the icon setting and updates the fields appropriately."
   ]
  },
  {
   "cell_type": "markdown",
   "id": "b67ee2c9-1029-42fa-9105-cb8e8ef9bfbd",
   "metadata": {},
   "source": [
    "#### Question 1\n",
    "\n",
    "Write the structure of a query to create or replace a stored procedure called `UPDATE_LEADERS_SCORE` that takes a `in_School_ID` parameter as an integer and a `in_Leader_Score` parameter as an integer. Don’t forget to use the #SET TERMINATOR statement to use the @ for the CREATE statement terminator."
   ]
  },
  {
   "cell_type": "code",
   "execution_count": null,
   "id": "0407fd55-72e6-4445-a844-42018dcb85e5",
   "metadata": {},
   "outputs": [],
   "source": [
    "--#SET TERMINATOR @\n",
    "CREATE PROCEDURE UPDATE_LEADERS_SCORE (\n",
    "IN IN_SCHOOL_ID INTEGER, IN IN_LEADER_SCORE INTEGER)\n",
    "LANGUAGE SQL \n",
    "MODIFIES SQL DATA\n",
    "BEGIN\n",
    "\n",
    "END\n",
    "@"
   ]
  },
  {
   "cell_type": "markdown",
   "id": "f4f393d9-bc47-4396-a2e7-17b83c7bc99e",
   "metadata": {},
   "source": [
    "#### Question 2\n",
    "\n",
    "Inside your stored procedure, write a SQL statement to update the `Leaders_Score` field in the CHICAGO_PUBLIC_SCHOOLS table for the school identified by `in_School_ID` to the value in the `in_Leader_Score` parameter."
   ]
  },
  {
   "cell_type": "code",
   "execution_count": null,
   "id": "265ac610-66b5-406b-b753-9b5988ce0c1c",
   "metadata": {},
   "outputs": [],
   "source": [
    "--#SET TERMINATOR @\n",
    "CREATE PROCEDURE UPDATE_LEADERS_SCORE (\n",
    "IN IN_SCHOOL_ID INTEGER, IN IN_LEADER_SCORE INTEGER)\n",
    "LANGUAGE SQL \n",
    "MODIFIES SQL DATA\n",
    "BEGIN\n",
    "\n",
    "      UPDATE CHICAGO_PUBLIC_SCHOOLS\n",
    "      SET \"LEADERS_SCORE\" = IN_LEADER_SCORE WHERE \"SCHOOL_ID\" = IN_SCHOOL_ID;\n",
    " \n",
    "END\n",
    "@"
   ]
  },
  {
   "cell_type": "code",
   "execution_count": null,
   "id": "d540f57b-6731-498f-bb8a-a8ce38197a72",
   "metadata": {},
   "outputs": [],
   "source": [
    "#### Question 3\n",
    "\n",
    "Inside your stored procedure, write a SQL IF statement to update the Leaders_Icon field in the CHICAGO_PUBLIC_SCHOOLS table for the school identified by in_School_ID using the following information.\n",
    "\n",
    "Scorelower limit\tScore upper limit\tIcon\n",
    "   80\t               99\t            Very strong\n",
    "   60\t               79\t             Strong\n",
    "   40\t               59\t             Average\n",
    "   20\t               39\t             Weak\n",
    "    0\t               19\t             Very weak\n"
   ]
  },
  {
   "cell_type": "code",
   "execution_count": null,
   "id": "2f77521c-1d61-48d8-b6e9-829772d0f641",
   "metadata": {},
   "outputs": [],
   "source": [
    "CALL PROCESS_ALL;\n",
    "CALL UPDATE_LEADERS_ICONS(609927, 50);\n",
    "CALL PROCESS_ALL;"
   ]
  },
  {
   "cell_type": "markdown",
   "id": "7d5b8fad-c878-46f0-a73e-2f554bc889cd",
   "metadata": {},
   "source": [
    "#### Question 4, 5 n 6 (Answers below)\n",
    "\n",
    "- Inside your stored procedure, write a SQL IF statement to update the Leaders_Icon field in the CHICAGO_PUBLIC_SCHOOLS table for the school identified by in_School_ID using the following information. \n",
    "\n",
    "- Update your stored procedure definition. Add a generic ELSE clause to the IF statement that rolls back the current work if the score did not fit any of the preceding categories. \n",
    "\n",
    "- Update your stored procedure definition again. Add a statement to commit the current unit of work at the end of the procedure. "
   ]
  },
  {
   "cell_type": "code",
   "execution_count": null,
   "id": "b40e42b4-5b0b-4776-b8c1-3f48c2db9550",
   "metadata": {},
   "outputs": [],
   "source": [
    "--#SET TERMINATOR @\n",
    "CREATE PROCEDURE UPDATE_LEADERS_ICONS (\n",
    "IN IN_SCHOOL_ID INTEGER, IN IN_LEADER_SCORE INTEGER)\n",
    "LANGUAGE SQL \n",
    "MODIFIES SQL DATA\n",
    "BEGIN\n",
    "\n",
    "UPDATE CHICAGO_PUBLIC_SCHOOLS\n",
    "SET \"LEADERS_SCORE\" = IN_LEADER_SCORE WHERE \"SCHOOL_ID\" = IN_SCHOOL_ID;\n",
    "\n",
    "      IF IN_LEADER_SCORE > 0 AND IN_LEADER_SCORE < 20 THEN UPDATE CHICAGO_PUBLIC_SCHOOLS \n",
    "      SET \"LEADERS_ICON\" = 'VERY WEAK';\n",
    "      \n",
    "      ELSEIF IN_LEADER_SCORE < 40 THEN UPDATE CHICAGO_PUBLIC_SCHOOLS \n",
    "      SET \"LEADERS_ICON\" = 'WEAK'; \n",
    "      \n",
    "      ELSEIF IN_LEADER_SCORE < 60 THEN UPDATE CHICAGO_PUBLIC_SCHOOLS \n",
    "      SET \"LEADERS_ICON\" = 'AVERAGE';\n",
    "      \n",
    "      ELSEIF IN_LEADER_SCORE < 80 THEN UPDATE CHICAGO_PUBLIC_SCHOOLS \n",
    "      SET \"LEADERS_ICON\" = 'STRONG';\n",
    "      \n",
    "      ELSEIF IN_LEADER_SCORE < 100 THEN UPDATE CHICAGO_PUBLIC_SCHOOLS \n",
    "      SET \"LEADERS_ICON\" = 'VERY STRONG';\n",
    "\n",
    "      ELSE\n",
    "      ROLLBACK;\n",
    "\n",
    "END IF;\n",
    " \n",
    "    UPDATE CHICAGO_PUBLIC_SCHOOLS\n",
    "    SET \"LEADERS_SCORE\" = IN_LEADER_SCORE WHERE \"SCHOOL_ID\" = IN_SCHOOL_ID;\n",
    "    \n",
    "    COMMIT;\n",
    "    \n",
    "END\n",
    "@"
   ]
  }
 ],
 "metadata": {
  "kernelspec": {
   "display_name": "anaconda-2022.05-py39",
   "language": "python",
   "name": "conda-env-anaconda-2022.05-py39-py"
  },
  "language_info": {
   "codemirror_mode": {
    "name": "ipython",
    "version": 3
   },
   "file_extension": ".py",
   "mimetype": "text/x-python",
   "name": "python",
   "nbconvert_exporter": "python",
   "pygments_lexer": "ipython3",
   "version": "3.9.12"
  }
 },
 "nbformat": 4,
 "nbformat_minor": 5
}
